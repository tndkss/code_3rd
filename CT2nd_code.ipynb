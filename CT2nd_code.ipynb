{
  "nbformat": 4,
  "nbformat_minor": 0,
  "metadata": {
    "colab": {
      "provenance": [],
      "authorship_tag": "ABX9TyNk7ZpaWaK8hqBy7QFVwJ6D",
      "include_colab_link": true
    },
    "kernelspec": {
      "name": "python3",
      "display_name": "Python 3"
    },
    "language_info": {
      "name": "python"
    }
  },
  "cells": [
    {
      "cell_type": "markdown",
      "metadata": {
        "id": "view-in-github",
        "colab_type": "text"
      },
      "source": [
        "<a href=\"https://colab.research.google.com/github/tndkss/code_3rd/blob/main/CT2nd_code.ipynb\" target=\"_parent\"><img src=\"https://colab.research.google.com/assets/colab-badge.svg\" alt=\"Open In Colab\"/></a>"
      ]
    },
    {
      "cell_type": "code",
      "execution_count": 1,
      "metadata": {
        "id": "vXtEXoM6HGaq",
        "colab": {
          "base_uri": "https://localhost:8080/"
        },
        "outputId": "d1e53081-e8f6-4e15-cfb3-485c02d68087"
      },
      "outputs": [
        {
          "output_type": "stream",
          "name": "stdout",
          "text": [
            "n1의 값을 입력하시오.:40\n",
            "n2의 값을 입력하시오.:50\n",
            "n3의 값을 입력하시오.:60\n",
            "50.0\n"
          ]
        }
      ],
      "source": [
        "n1=int(input(\"n1의 값을 입력하시오.:\"))  # 사용자로부터 n1 값을 입력받습니다.\n",
        "n2=int(input(\"n2의 값을 입력하시오.:\"))  # 사용자로부터 n2 값을 입력받습니다.\n",
        "n3=int(input(\"n3의 값을 입력하시오.:\"))  # 사용자로부터 n3 값을 입력받습니다.\n",
        "total=n1+n2+n3   # n1, n2, n3의 합을 계산합니다.\n",
        "average=total/3  # n1, n2, n3의 평균을 계산합니다.\n",
        "print(average)   # 평균을 출력합니다."
      ]
    }
  ]
}