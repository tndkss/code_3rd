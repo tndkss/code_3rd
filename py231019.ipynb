{
  "nbformat": 4,
  "nbformat_minor": 0,
  "metadata": {
    "colab": {
      "provenance": [],
      "authorship_tag": "ABX9TyMlc34x29H/LJ3sYCKVH10f",
      "include_colab_link": true
    },
    "kernelspec": {
      "name": "python3",
      "display_name": "Python 3"
    },
    "language_info": {
      "name": "python"
    }
  },
  "cells": [
    {
      "cell_type": "markdown",
      "metadata": {
        "id": "view-in-github",
        "colab_type": "text"
      },
      "source": [
        "<a href=\"https://colab.research.google.com/github/tndkss/code_3rd/blob/main/py231019.ipynb\" target=\"_parent\"><img src=\"https://colab.research.google.com/assets/colab-badge.svg\" alt=\"Open In Colab\"/></a>"
      ]
    },
    {
      "cell_type": "markdown",
      "source": [
        "1. To-Do List를 작성하시오.\n",
        "- 2023년 10월 19일 최수안\n",
        "- (1) 09:20 도서관에서 책 빌리기\n",
        "- (2) 11:00 컴퓨팅적사고와 기초코딩 수업\n",
        "- (3) 13:00 점심식사\n",
        "- (4) 14:10 교양수업\n",
        "- (5) 16:00 파이썬 공부 및 레포트 작성\n",
        "- (6) 17:40 저녁식사 및 집안일 돕기\n",
        "- (7) 19:00 LOL 하기"
      ],
      "metadata": {
        "id": "CpMx6B_xwIea"
      }
    },
    {
      "cell_type": "code",
      "source": [
        "print(\"To-Do List\")  # To-Do List라는 제목을 출력합니다.\n",
        "print(\"2023년 10월 19일 최수안\")  # 날짜와 이름을 출력합니다.\n",
        "print(\"(1) 9:20 도서관에서 책 빌리기\")  # 해야 할 일들을 순서대로 출력합니다.\n",
        "print(\"(2) 11:00 컴퓨팅적사고와 기초코딩 수업\")\n",
        "print(\"(3) 13:00 점심식사\")\n",
        "print(\"(4) 14:00 교양수업\")\n",
        "print(\"(5) 16:00 파이썬 공부 및 레포트 작성\")\n",
        "print(\"(6) 17:40 저녁식사 및 집안일 돕기\")\n",
        "print(\"(7) 19:00 LOL 하기\")"
      ],
      "metadata": {
        "colab": {
          "base_uri": "https://localhost:8080/"
        },
        "id": "C3lFtZHGyZ6y",
        "outputId": "fd2a40e5-b51d-4092-b60b-f8fe172ef0e2"
      },
      "execution_count": null,
      "outputs": [
        {
          "output_type": "stream",
          "name": "stdout",
          "text": [
            "To-Do List\n",
            "2023년 10월 19일 최수안\n",
            "(1) 9:20 도서관에서 책 빌리기\n",
            "(2) 11:00 컴퓨팅적사고와 기초코딩 수업\n",
            "(3) 13:00 점심식사\n",
            "(4) 14:00 교양수업\n",
            "(5) 16:00 파이썬 공부 및 레포트 작성\n",
            "(6) 17:40 저녁식사 및 집안일 돕기\n",
            "(7) 19:00 LOL 하기\n"
          ]
        }
      ]
    },
    {
      "cell_type": "markdown",
      "source": [
        "2. 인사말 출력하기\n",
        " - 식사하셨습니까?행님\n"
      ],
      "metadata": {
        "id": "hlQoxv2jwVJL"
      }
    },
    {
      "cell_type": "code",
      "source": [
        "print(\"2. 인사말 출력하기\")    # \"2. 인사말 출력하기\"라는 제목을 출력합니다.\n",
        "print(\"- 식사하셨습니까?행님\") # \"식사하셨습니까?행님\"이라는 인사말을 출력합니다."
      ],
      "metadata": {
        "colab": {
          "base_uri": "https://localhost:8080/"
        },
        "id": "stbBX-eQx2bS",
        "outputId": "9658f717-eabf-4e33-f455-3cb988ee01ed"
      },
      "execution_count": null,
      "outputs": [
        {
          "output_type": "stream",
          "name": "stdout",
          "text": [
            "2. 인사말 출력하기\n",
            "- 식사하셨습니까?행님\n"
          ]
        }
      ]
    },
    {
      "cell_type": "markdown",
      "source": [
        "3. 학생 4명의 국어점수를 입력받아서 아래와\n",
        "같이 출력하시오.\n",
        " - 박보검: 90점\n",
        " - 션    : 92점\n",
        " - 도룡용: 80점\n",
        " - 차은우: 99점\n",
        " - 국어 점수 순위\n",
        " - 1등 차은우\n",
        " - 2등 션\n",
        " - 3등 박보검\n",
        " - 4등 도룡용"
      ],
      "metadata": {
        "id": "VTbHFVC_wujD"
      }
    },
    {
      "cell_type": "code",
      "source": [
        "print(\"3. 학생 4명의 국어점수를 입력받아서 아래와 같이 출력하시오.\") # \"3. 학생 4명의 국어점수를 입력받아서 아래와 같이 출력하시오.\"라는 문장을 출력합니다.\n",
        "n1=input(\"학생의 값을 입력하시오.:\") # 사용자로부터 학생 1명의 국어 점수를 입력받습니다.\n",
        "n2=input(\"학생의 값을 입력하시오.:\")\n",
        "n3=input(\"학생의 값을 입력하시오.:\")\n",
        "n4=input(\"학생의 값을 입력하시오.:\")\n",
        "print(\"1등\", n4,\"점\") # 입력받은 점수를 등수별로 출력합니다.\n",
        "print(\"2등\", n2,\"점\")\n",
        "print(\"3등\", n1,\"점\")\n",
        "print(\"4등\", n3,\"점\")"
      ],
      "metadata": {
        "colab": {
          "base_uri": "https://localhost:8080/"
        },
        "id": "-1YN2WCGxvTy",
        "outputId": "e9af667f-a768-40c8-be79-eb8f6c09020b"
      },
      "execution_count": null,
      "outputs": [
        {
          "output_type": "stream",
          "name": "stdout",
          "text": [
            "3. 학생 4명의 국어점수를 입력받아서 아래와 같이 출력하시오.\n",
            "학생의 값을 입력하시오.:박보검: 90점\n",
            "학생의 값을 입력하시오.:션: 92점\n",
            "학생의 값을 입력하시오.:도룡용 : 80점\n",
            "학생의 값을 입력하시오.:차은우: 90점\n",
            "1등 차은우: 90점 점\n",
            "2등 션: 92점 점\n",
            "3등 박보검: 90점 점\n",
            "4등 차은우: 90점 점\n"
          ]
        }
      ]
    },
    {
      "cell_type": "markdown",
      "source": [
        "4. 두개의 점수를 입력받아서 합계와 평균을 출력하시오.\n",
        "\n"
      ],
      "metadata": {
        "id": "A314sv2-xdv8"
      }
    },
    {
      "cell_type": "code",
      "source": [
        "print(\"4. 두개의 점수를 입력받아서 합계와 평균을 출력하시오.\") # \"4. 두개의 점수를 입력받아서 합계와 평균을 출력하시오.\"라는 문장을 출력합니다.\n",
        "n1=int(input(\"n1의 값을 입력받으시오.:\")) # 사용자로부터 n1 값을 입력받습니다\n",
        "n4=int(input(\"n4의 값을 입력받으시오.:\")) # 사용자로부터 n4 값을 입력받습니다.\n",
        "total=n1+n4  # n1과 n4의 합을 계산합니다.\n",
        "average=total/2  # n1과 n4의 평균을 계산합니다.\n",
        "print(average) # 평균을 출력합니다."
      ],
      "metadata": {
        "colab": {
          "base_uri": "https://localhost:8080/"
        },
        "id": "7nOOJ-MFxzHi",
        "outputId": "8b4d1d2b-308a-4772-adc4-9d7a1cd00947"
      },
      "execution_count": null,
      "outputs": [
        {
          "output_type": "stream",
          "name": "stdout",
          "text": [
            "4. 두개의 점수를 입력받아서 합계와 평균을 출력하시오.\n",
            "n1의 값을 입력받으시오.:80\n",
            "n4의 값을 입력받으시오.:40\n",
            "60.0\n"
          ]
        }
      ]
    },
    {
      "cell_type": "markdown",
      "source": [],
      "metadata": {
        "id": "DbFVKO7lwCEr"
      }
    }
  ]
}