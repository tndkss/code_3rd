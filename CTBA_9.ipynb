{
  "nbformat": 4,
  "nbformat_minor": 0,
  "metadata": {
    "colab": {
      "provenance": [],
      "authorship_tag": "ABX9TyOaeThkNzJ09xhh37tKF3Yx",
      "include_colab_link": true
    },
    "kernelspec": {
      "name": "python3",
      "display_name": "Python 3"
    },
    "language_info": {
      "name": "python"
    }
  },
  "cells": [
    {
      "cell_type": "markdown",
      "metadata": {
        "id": "view-in-github",
        "colab_type": "text"
      },
      "source": [
        "<a href=\"https://colab.research.google.com/github/tndkss/code_3rd/blob/main/CTBA_9.ipynb\" target=\"_parent\"><img src=\"https://colab.research.google.com/assets/colab-badge.svg\" alt=\"Open In Colab\"/></a>"
      ]
    },
    {
      "cell_type": "markdown",
      "source": [
        "1. 두가지 이상의 선택, 다양한 선택구조 코딩\n",
        " - 배송료처리 3가지로 작성\n",
        " - 변수: price, 가격 10만원이상 0원, 2만원 이상 3000원, 그 외 5천원"
      ],
      "metadata": {
        "id": "Gg_ynSTjOAHa"
      }
    },
    {
      "cell_type": "code",
      "source": [
        " print(\"배송료를 계산합니다.\")\n",
        " print(\"#\" * 30)\n",
        " price = int(input(\"구입금액 입력:\"))\n",
        " if price >= 100000:\n",
        "    shipping_cost=0\n",
        " else:\n",
        "  if price >= 20000:\n",
        "   shipping_cost=3000\n",
        "  else:\n",
        "   shipping_cost=5000\n",
        " print(f'배송료는 {shipping_cost}원 입니다')"
      ],
      "metadata": {
        "colab": {
          "base_uri": "https://localhost:8080/"
        },
        "id": "XtrmO1PAOTTQ",
        "outputId": "4b5c54d2-5807-45b6-cda2-a994f8c3c4eb"
      },
      "execution_count": 8,
      "outputs": [
        {
          "output_type": "stream",
          "name": "stdout",
          "text": [
            "배송료를 계산합니다.\n",
            "##############################\n",
            "구입금액 입력:19000\n",
            "배송료는 5000원 입니다\n"
          ]
        }
      ]
    },
    {
      "cell_type": "markdown",
      "source": [
        "2. 환영합니다. 5번출력, 10번 출력, 30번 출력"
      ],
      "metadata": {
        "id": "Y2vw0crmPt73"
      }
    },
    {
      "cell_type": "code",
      "source": [
        " print(\"환영합니다.\")\n",
        " print(\"환영합니다.\")\n",
        " print(\"환영합니다.\")\n",
        " print(\"환영합니다.\")"
      ],
      "metadata": {
        "colab": {
          "base_uri": "https://localhost:8080/"
        },
        "id": "pfTXkKf9P3RZ",
        "outputId": "8f99e6bc-41e0-4871-adc0-58961bc0f95a"
      },
      "execution_count": 3,
      "outputs": [
        {
          "output_type": "stream",
          "name": "stdout",
          "text": [
            "환영합니다.\n",
            "환영합니다.\n",
            "환영합니다.\n",
            "환영합니다.\n"
          ]
        }
      ]
    },
    {
      "cell_type": "code",
      "source": [
        "print(\"환영합니다.\\n\" * 5)"
      ],
      "metadata": {
        "id": "fYuCJOriQiG6"
      },
      "execution_count": null,
      "outputs": []
    },
    {
      "cell_type": "code",
      "source": [
        "count = 1\n",
        "while count <= 5:\n",
        "  print(\"(\", count, \")\", \"환영합니다.\")\n",
        "  print(f'({count})환영합니다.')\n",
        "  count = count + 1\n",
        "  #count += 1"
      ],
      "metadata": {
        "colab": {
          "base_uri": "https://localhost:8080/"
        },
        "id": "2LZeNa05SnWh",
        "outputId": "d35fcc24-1724-4352-d9c0-d131b67eaa09"
      },
      "execution_count": 14,
      "outputs": [
        {
          "output_type": "stream",
          "name": "stdout",
          "text": [
            "( 1 ) 환영합니다.\n",
            "(1)환영합니다.\n",
            "( 2 ) 환영합니다.\n",
            "(2)환영합니다.\n",
            "( 3 ) 환영합니다.\n",
            "(3)환영합니다.\n",
            "( 4 ) 환영합니다.\n",
            "(4)환영합니다.\n",
            "( 5 ) 환영합니다.\n",
            "(5)환영합니다.\n"
          ]
        }
      ]
    },
    {
      "cell_type": "markdown",
      "source": [
        "3. 0부터 9까지 출력하는 코드 작성\n",
        " - 변수: x"
      ],
      "metadata": {
        "id": "00UrGxsHUzVQ"
      }
    },
    {
      "cell_type": "code",
      "source": [
        "x = 0\n",
        "while x < 10:\n",
        "  print(x, end=' ')\n",
        "  x += 1"
      ],
      "metadata": {
        "colab": {
          "base_uri": "https://localhost:8080/"
        },
        "id": "4hNVx7FwU7MD",
        "outputId": "610afb78-a124-44f5-dc9e-3ef4073ba756"
      },
      "execution_count": 16,
      "outputs": [
        {
          "output_type": "stream",
          "name": "stdout",
          "text": [
            "0 1 2 3 4 5 6 7 8 9 "
          ]
        }
      ]
    },
    {
      "cell_type": "markdown",
      "source": [
        "4. 1부터 10까지 정수의 합을 계산하여 출력하는 코드"
      ],
      "metadata": {
        "id": "qkA8p3sgYYtF"
      }
    },
    {
      "cell_type": "code",
      "source": [
        "x = 1\n",
        "total = 0\n",
        "while x <= 10:\n",
        "  total = total + x\n",
        "  x += 1\n",
        "print(total)"
      ],
      "metadata": {
        "colab": {
          "base_uri": "https://localhost:8080/"
        },
        "id": "M9SblIxsYe7D",
        "outputId": "e77508fb-028c-4a39-f43b-ab8fd18aeb66"
      },
      "execution_count": 25,
      "outputs": [
        {
          "output_type": "stream",
          "name": "stdout",
          "text": [
            "55\n"
          ]
        }
      ]
    },
    {
      "cell_type": "code",
      "source": [
        "x = 1\n",
        "while x <= 10:\n",
        "  print(x)\n",
        "  x+=1"
      ],
      "metadata": {
        "colab": {
          "base_uri": "https://localhost:8080/"
        },
        "id": "_3wnqlkPePIV",
        "outputId": "3ae08b4c-c778-45fe-88ee-ada7da0e2e9c"
      },
      "execution_count": 36,
      "outputs": [
        {
          "output_type": "stream",
          "name": "stdout",
          "text": [
            "1\n",
            "2\n",
            "3\n",
            "4\n",
            "5\n",
            "6\n",
            "7\n",
            "8\n",
            "9\n",
            "10\n"
          ]
        }
      ]
    },
    {
      "cell_type": "markdown",
      "source": [
        "5. 3-6-9 게임(3의 배수 판단): 3의 배수를 3으로 나누면 나머지가 0이 되므로(i mod 3)의 값이 0이면 박수를 출력, 아니면 숫자를 출력해주는 코드 작성"
      ],
      "metadata": {
        "id": "6VEjWJXyVnm5"
      }
    },
    {
      "cell_type": "code",
      "source": [
        "i = 1                                 # 변수 i는 0으로 선언\n",
        "while i <= 30:                        # 반복문 while사용해서 i가 30보다 작거나 같을때\n",
        "  if i % 3 == 0:                      # 만약 i값을 3으로 나눈 나머지가 0이면\n",
        "    print(\"박수\", end=' ')            # 박수를 출력하고 공백을 하나 만듦\n",
        "  else:                               # 위의 것이 아니면.\n",
        "    print(i, end=' ')                 # i값만 출력하고 공백 하나 만듦\n",
        "  i += 1                              # 변수 i값에 i와 1을 더해서 다시 변수 i에 선언"
      ],
      "metadata": {
        "colab": {
          "base_uri": "https://localhost:8080/"
        },
        "id": "bELYAzuKWDPo",
        "outputId": "54d4d94a-63b4-4777-baf5-21ece9a40c91"
      },
      "execution_count": 22,
      "outputs": [
        {
          "output_type": "stream",
          "name": "stdout",
          "text": [
            "1 2 박수 4 5 박수 7 8 박수 10 11 박수 13 14 박수 16 17 박수 19 20 박수 22 23 박수 25 26 박수 28 29 박수 "
          ]
        }
      ]
    },
    {
      "cell_type": "code",
      "source": [
        "for num in range(1, 11):               # 1부터 11까지의 숫자를 반복\n",
        "  if num % 3 == 0:                    # 숫자(num)를 3으로 나눈 나머지가 0인 경우\n",
        "    print(\"박수\", end=' ')            # 박수를 출력하고 공백을 만듦\n",
        "  else:                               # 그게 아니면\n",
        "    print(num, end=' ')               # 숫자만 출력하고 공백 만듦"
      ],
      "metadata": {
        "colab": {
          "base_uri": "https://localhost:8080/"
        },
        "id": "3Y8VhVRjZSAi",
        "outputId": "e377a16f-3cce-4ede-acb5-1edc007cbee4"
      },
      "execution_count": 27,
      "outputs": [
        {
          "output_type": "stream",
          "name": "stdout",
          "text": [
            "1 2 박수 4 5 박수 7 8 박수 10 "
          ]
        }
      ]
    },
    {
      "cell_type": "markdown",
      "source": [
        "6. 팩토리얼을 계산하는 코드 작성"
      ],
      "metadata": {
        "id": "XcUqfx3DamXf"
      }
    },
    {
      "cell_type": "code",
      "source": [
        "i = 4\n",
        "factorial = 1\n",
        "while i >= 1:\n",
        "  factorial = factorial * i\n",
        "  i -= 1\n",
        "print(factorial)"
      ],
      "metadata": {
        "colab": {
          "base_uri": "https://localhost:8080/"
        },
        "id": "CfxuEAeJaruh",
        "outputId": "52f94486-de01-44c3-a696-ba7d612b5427"
      },
      "execution_count": 35,
      "outputs": [
        {
          "output_type": "stream",
          "name": "stdout",
          "text": [
            "24\n"
          ]
        }
      ]
    },
    {
      "cell_type": "code",
      "source": [
        "num = int(input(\"팩토리알 값입력:\"))\n",
        "factorial = 1\n",
        "while num >= 1:\n",
        "  factorial = factorial * num\n",
        "  num -=1\n",
        "print(\"계산된 팩토리얼 값은 :\", factorial)"
      ],
      "metadata": {
        "colab": {
          "base_uri": "https://localhost:8080/"
        },
        "id": "3Jfsi9ktbn7s",
        "outputId": "048927b1-1a6e-4da8-fe51-d758528f22f2"
      },
      "execution_count": 30,
      "outputs": [
        {
          "output_type": "stream",
          "name": "stdout",
          "text": [
            "팩토리알 값입력:5\n",
            "계산된 팩토리얼 값은 : 120\n"
          ]
        }
      ]
    },
    {
      "cell_type": "markdown",
      "source": [],
      "metadata": {
        "id": "c77ZYCW0QHlM"
      }
    }
  ]
}