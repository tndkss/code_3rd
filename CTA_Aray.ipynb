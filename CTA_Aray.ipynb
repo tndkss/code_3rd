{
  "nbformat": 4,
  "nbformat_minor": 0,
  "metadata": {
    "colab": {
      "provenance": [],
      "authorship_tag": "ABX9TyOp4QyG4FCU9k6XZV0JMD9z",
      "include_colab_link": true
    },
    "kernelspec": {
      "name": "python3",
      "display_name": "Python 3"
    },
    "language_info": {
      "name": "python"
    }
  },
  "cells": [
    {
      "cell_type": "markdown",
      "metadata": {
        "id": "view-in-github",
        "colab_type": "text"
      },
      "source": [
        "<a href=\"https://colab.research.google.com/github/tndkss/code_3rd/blob/main/CTA_Aray.ipynb\" target=\"_parent\"><img src=\"https://colab.research.google.com/assets/colab-badge.svg\" alt=\"Open In Colab\"/></a>"
      ]
    },
    {
      "cell_type": "markdown",
      "source": [
        "1. 배열의 선언\n",
        " - 일반 변수의 선언: 변수명 = 변수의 값\n",
        " - 배열의 변수 선언: 변수명 = {  ,  ,  }"
      ],
      "metadata": {
        "id": "7NkeTq_lMb_y"
      }
    },
    {
      "cell_type": "code",
      "source": [
        "movie_list = [\"아바타\", \"타이타닉\", \"스타워즈\", \"주라기월드\", \"어벤져스\"]\n",
        "print(movie_list[0])\n",
        "print(movie_list[4])"
      ],
      "metadata": {
        "colab": {
          "base_uri": "https://localhost:8080/"
        },
        "id": "Lsoln1pQNWFP",
        "outputId": "f21202c4-4fc9-4a92-dcb0-02e164fa3a23"
      },
      "execution_count": 3,
      "outputs": [
        {
          "output_type": "stream",
          "name": "stdout",
          "text": [
            "아바타\n",
            "어벤져스\n"
          ]
        }
      ]
    },
    {
      "cell_type": "markdown",
      "source": [
        "2. 요일을 배열로 선언하라\n",
        " - day_list\n",
        " - 요일 : 월(Mon.), 화(Tue.), 수(Wed.) 목(Thur.),금(Fri.), 토(Sat.) 일(Sun.)"
      ],
      "metadata": {
        "id": "kcPzijumOZs5"
      }
    },
    {
      "cell_type": "code",
      "source": [
        "day_list=[\"월(Mon.)\",\"화(Tue.)\",\"수(Wed.)\",\"목(Thur.)\",\"금(Fri.)\",\"토(Sat.)\",\"일(Sun.)\"]\n",
        "print(day_list[0])\n",
        "print(day_list[1])\n",
        "print(day_list[2])\n",
        "print(day_list[3])\n",
        "print(day_list[4])\n",
        "print(day_list[5])\n",
        "print(day_list[6])"
      ],
      "metadata": {
        "colab": {
          "base_uri": "https://localhost:8080/"
        },
        "id": "ZzXohpP_PW3M",
        "outputId": "057c60ae-9f3c-4d4f-b795-b7fa70cb4289"
      },
      "execution_count": 14,
      "outputs": [
        {
          "output_type": "stream",
          "name": "stdout",
          "text": [
            "월(Mon.)\n",
            "화(Tue.)\n",
            "수(Wed.)\n",
            "목(Thur.)\n",
            "금(Fri.)\n",
            "토(Sat.)\n",
            "일(Sun.)\n"
          ]
        }
      ]
    }
  ]
}