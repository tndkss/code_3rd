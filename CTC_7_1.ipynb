{
  "nbformat": 4,
  "nbformat_minor": 0,
  "metadata": {
    "colab": {
      "provenance": [],
      "authorship_tag": "ABX9TyP9gpJutFpNyf4PHI/gXdO0",
      "include_colab_link": true
    },
    "kernelspec": {
      "name": "python3",
      "display_name": "Python 3"
    },
    "language_info": {
      "name": "python"
    }
  },
  "cells": [
    {
      "cell_type": "markdown",
      "metadata": {
        "id": "view-in-github",
        "colab_type": "text"
      },
      "source": [
        "<a href=\"https://colab.research.google.com/github/tndkss/code_3rd/blob/main/CTC_7_1.ipynb\" target=\"_parent\"><img src=\"https://colab.research.google.com/assets/colab-badge.svg\" alt=\"Open In Colab\"/></a>"
      ]
    },
    {
      "cell_type": "code",
      "execution_count": null,
      "metadata": {
        "id": "YisWmlO1G_Om"
      },
      "outputs": [],
      "source": []
    },
    {
      "cell_type": "markdown",
      "source": [
        "1. 사용자로부터 3개의 값(X,Y,Z)을 입력받아서 각각 1씩 증가되고,출력되는 코드작성\n"
      ],
      "metadata": {
        "id": "JI4ai1dEHJ-5"
      }
    },
    {
      "cell_type": "code",
      "source": [
        "x =  int(input(\"x의 값을 입력하시오.:\"))\n",
        "y =  int(input(\"y의 값을 입력하시오.:\"))\n",
        "z =  int(input(\"z의 값을 입력하시오.:\"))\n",
        "x = x+1\n",
        "y = y+1\n",
        "z = z+1\n",
        "print(f'x의 값은 {x}이며, y의 값은 {y}이고, z의 값은 {z}이다. ')"
      ],
      "metadata": {
        "colab": {
          "base_uri": "https://localhost:8080/"
        },
        "id": "9QgfxNsZHZl5",
        "outputId": "5cf07fe0-59a4-4486-b0b2-4e2fa1fb634d"
      },
      "execution_count": 4,
      "outputs": [
        {
          "output_type": "stream",
          "name": "stdout",
          "text": [
            "x의 값을 입력하시오.:1\n",
            "y의 값을 입력하시오.:2\n",
            "z의 값을 입력하시오.:3\n",
            "x의 값은 2이며, y의 값은 3이고, z의 값은 4이다. \n"
          ]
        }
      ]
    },
    {
      "cell_type": "markdown",
      "source": [
        "2. 알바생의 시급과 시간을 계산하여 월급을 출력한 코드\n",
        "\n",
        "---\n",
        "\n"
      ],
      "metadata": {
        "id": "NcmanQW8JLT5"
      }
    },
    {
      "cell_type": "code",
      "source": [
        "hours_worked= int(input(\"일한 시간을 입력하시오.:\"))\n",
        "pay_rate=int(input(\"시급을 입력하시오(23 기준 9620원):\"))\n",
        "monthly_pay= hours_worked * pay_rate\n",
        "print(f'일한시간은 {hours_worked}이고, 시급은 {pay_rate}원이며, 월급여는 {monthly_pay}원 입니다.')"
      ],
      "metadata": {
        "colab": {
          "base_uri": "https://localhost:8080/"
        },
        "id": "SmA0qIUeJejB",
        "outputId": "5cb05197-71a8-4643-d4ce-991ae0486741"
      },
      "execution_count": 6,
      "outputs": [
        {
          "output_type": "stream",
          "name": "stdout",
          "text": [
            "일한 시간을 입력하시오.:10\n",
            "시급을 입력하시오(23 기준 9620원):9620\n",
            "일한시간은 10이고, 시급은 9620원이며, 월급여는 96200원 입니다.\n"
          ]
        }
      ]
    },
    {
      "cell_type": "markdown",
      "source": [
        "3. 환율계산하는 코드작성\n",
        " - 원의 변수는 won\n",
        " - 달러의 변수는 usd\n",
        " - 환전의 변수는 exchange"
      ],
      "metadata": {
        "id": "ur90m5WLLmk_"
      }
    },
    {
      "cell_type": "code",
      "source": [
        "won = int(input(\"환전할 금액을 입력(kor):\"))\n",
        "usd = int(input(\"현재 달러의 환율 입력(2301031: 1372):\"))\n",
        "exchange = won // usd\n",
        "print(f'환전할 금액은 {won}이며, 달러 금액은 {usd}이고, 환전금액은 {exchange}달러 입니다. ')"
      ],
      "metadata": {
        "colab": {
          "base_uri": "https://localhost:8080/"
        },
        "id": "M9Q3EeWzMBs2",
        "outputId": "779817a0-990c-4b13-9e88-6ff879c375f4"
      },
      "execution_count": 23,
      "outputs": [
        {
          "output_type": "stream",
          "name": "stdout",
          "text": [
            "환전할 금액을 입력(kor):5000\n",
            "현재 달러의 환율 입력(2301031: 1372):1372\n",
            "환전할 금액은 5000이며, 달러 금액은 1372이고, 환전금액은 3달러 입니다. \n"
          ]
        }
      ]
    },
    {
      "cell_type": "markdown",
      "source": [
        "4. 화씨(fahrenheit)를 섭씨(celcius)로 변환하는 코드 작성"
      ],
      "metadata": {
        "id": "RDHgeokEOG41"
      }
    },
    {
      "cell_type": "code",
      "source": [
        "fahrenheit = int(input(\"화씨온도를 입력하시오.:\"))\n",
        "celcius = (fahrenheit - 32) / 1.8\n",
        "print(f'화씨온도는 {fahrenheit}, 섭씨 {celcius}입니다.')"
      ],
      "metadata": {
        "colab": {
          "base_uri": "https://localhost:8080/"
        },
        "id": "kBYLxMRwOfJ1",
        "outputId": "0ed9cfc4-a6dc-4def-8d30-1d2e81123e44"
      },
      "execution_count": 20,
      "outputs": [
        {
          "output_type": "stream",
          "name": "stdout",
          "text": [
            "화씨온도를 입력하시오.:100\n",
            "화씨온도는 100, 섭씨 37.77777777777778입니다.\n"
          ]
        }
      ]
    },
    {
      "cell_type": "code",
      "source": [
        "celcius = float(input(\"섭씨온도를 입력하시오.:\"))\n",
        "fahrenheit = (celcius * 1.8 )+ 32\n",
        "print(f'섭씨온도는 {celcius}도는, 화씨 {fahrenheit}도 입니다.')"
      ],
      "metadata": {
        "colab": {
          "base_uri": "https://localhost:8080/"
        },
        "id": "_G2sRQ55PuAU",
        "outputId": "c4e0bab2-0d22-41e0-af83-fabb3d2de8c8"
      },
      "execution_count": 21,
      "outputs": [
        {
          "output_type": "stream",
          "name": "stdout",
          "text": [
            "섭씨온도를 입력하시오.:37.77777777777778\n",
            "섭씨온도는 37.77777777777778도는, 화씨 100.0도 입니다.\n"
          ]
        }
      ]
    },
    {
      "cell_type": "markdown",
      "source": [
        "5. 사용자로부터 2개의 정수를 받아서 합계를 출력하는 코드"
      ],
      "metadata": {
        "id": "HuDjdGk9VgfS"
      }
    },
    {
      "cell_type": "code",
      "source": [
        "x=int(input(\"x의 값을 입력하시오.:\"))\n",
        "y=int(input(\"y의 값을 입력하시오.:\"))\n",
        "sum = x+y\n",
        "print(sum)"
      ],
      "metadata": {
        "colab": {
          "base_uri": "https://localhost:8080/"
        },
        "id": "a6r2Q8BDVweC",
        "outputId": "a985256b-1d1b-43bd-c42d-184cb2ff30d0"
      },
      "execution_count": 27,
      "outputs": [
        {
          "output_type": "stream",
          "name": "stdout",
          "text": [
            "x의 값을 입력하시오.:11\n",
            "y의 값을 입력하시오.:22\n",
            "33\n"
          ]
        }
      ]
    },
    {
      "cell_type": "markdown",
      "source": [
        "6. 부가세를 계산하시오"
      ],
      "metadata": {
        "id": "6MhfMPDZX8_I"
      }
    },
    {
      "cell_type": "code",
      "source": [
        "price = int(input(\"상품의 가격을 입력하시오.:\"))\n",
        "vat = price * 0.1\n",
        "print(vat)"
      ],
      "metadata": {
        "colab": {
          "base_uri": "https://localhost:8080/"
        },
        "id": "QVO6CFNEX_po",
        "outputId": "ac4fc88c-363b-4d95-cfb9-12ff06a5a302"
      },
      "execution_count": 28,
      "outputs": [
        {
          "output_type": "stream",
          "name": "stdout",
          "text": [
            "상품의 가격을 입력하시오.:5625\n",
            "562.5\n"
          ]
        }
      ]
    },
    {
      "cell_type": "markdown",
      "source": [],
      "metadata": {
        "id": "f3ne2GCrODmO"
      }
    }
  ]
}