{
  "nbformat": 4,
  "nbformat_minor": 0,
  "metadata": {
    "colab": {
      "provenance": [],
      "authorship_tag": "ABX9TyO2C06eJL5g682ZHajbBwET",
      "include_colab_link": true
    },
    "kernelspec": {
      "name": "python3",
      "display_name": "Python 3"
    },
    "language_info": {
      "name": "python"
    }
  },
  "cells": [
    {
      "cell_type": "markdown",
      "metadata": {
        "id": "view-in-github",
        "colab_type": "text"
      },
      "source": [
        "<a href=\"https://colab.research.google.com/github/tndkss/code_3rd/blob/main/CTBL_1.ipynb\" target=\"_parent\"><img src=\"https://colab.research.google.com/assets/colab-badge.svg\" alt=\"Open In Colab\"/></a>"
      ]
    },
    {
      "cell_type": "markdown",
      "source": [
        "1. 학생으로부터 성적을 입력받아 합격유무를 출력하는 코드작성\n",
        " - 사용변수: Grade\n",
        " - 사용수식: Grade >= 70:"
      ],
      "metadata": {
        "id": "zHR7J5eZ0W9m"
      }
    },
    {
      "cell_type": "code",
      "source": [
        "Grade = int(input(\"성적입력: \"))\n",
        "if Grade >=70:\n",
        "  print(\"70점 이상이므로 합격\")\n",
        "else:\n",
        "  print(\"70이하는 불합격\")"
      ],
      "metadata": {
        "colab": {
          "base_uri": "https://localhost:8080/"
        },
        "id": "xDFffWRS1QQf",
        "outputId": "a26b19a1-a2cd-4d6f-98eb-0f6c6fe86d3c"
      },
      "execution_count": 2,
      "outputs": [
        {
          "output_type": "stream",
          "name": "stdout",
          "text": [
            "성적입력: 80\n",
            "70점 이상이므로 합격\n"
          ]
        }
      ]
    },
    {
      "cell_type": "markdown",
      "source": [
        "2. 쇼핑몰의 배송료를 계산하는 코드 작성\n",
        " - 변수명: price, shipping_cost\n",
        " - 수식: price >= 20000\n",
        " - shipping_cost = 3000"
      ],
      "metadata": {
        "id": "1dcWsBpJ3uSG"
      }
    },
    {
      "cell_type": "code",
      "source": [
        "price = int(input(\"구입금앱 입력: \"))\n",
        "if price >=20000:\n",
        "  shipping_cost = 0\n",
        "  print(f'구입금액이 {price}원 이상입니다.')\n",
        "else:\n",
        "    shipping_cost = 3000\n",
        "    print(\"구입금액이 2만원 이하입니다.\")\n",
        "print(f'회원님의 배송료는 {shipping_cost}입니다.')"
      ],
      "metadata": {
        "colab": {
          "base_uri": "https://localhost:8080/"
        },
        "id": "Gz8I-875418e",
        "outputId": "c4f74779-98f9-4d6d-cfa2-81a025f97578"
      },
      "execution_count": 8,
      "outputs": [
        {
          "output_type": "stream",
          "name": "stdout",
          "text": [
            "구입금앱 입력: 20000\n",
            "구입금액이 20000원 이상입니다.\n",
            "회원님의 배송료는 0입니다.\n"
          ]
        }
      ]
    },
    {
      "cell_type": "markdown",
      "source": [
        "3. 근무시간에 따라 초과근무와 정상근무를 판별하는 코드작성\n",
        " - 변수: work_hour\n",
        " - 수식: >= , 기준시간 : 72시간"
      ],
      "metadata": {
        "id": "3ZYf7RP279V1"
      }
    },
    {
      "cell_type": "code",
      "source": [
        "work_hour = int(input(\"근무시간 입력: \"))\n",
        "if work_hour >= 72:\n",
        "  print(\"초과근무하였습니다.\")\n",
        "else:\n",
        "  print(\"정상근무하였습니다.\")"
      ],
      "metadata": {
        "colab": {
          "base_uri": "https://localhost:8080/"
        },
        "id": "AEuSFL-d8dp1",
        "outputId": "7ee84485-6b13-4a6a-ef62-d44b5aed6924"
      },
      "execution_count": 9,
      "outputs": [
        {
          "output_type": "stream",
          "name": "stdout",
          "text": [
            "근무시간 입력: 73\n",
            "초과근무하였습니다.\n"
          ]
        }
      ]
    },
    {
      "cell_type": "markdown",
      "source": [
        "4. 정수를 입력받아서 짝수인지 홀수인지 판별하는 코드 작성\n",
        " - 변수: num\n",
        " - 수식: (num% 2) != 0:\n"
      ],
      "metadata": {
        "id": "QEilcg4E9-be"
      }
    },
    {
      "cell_type": "code",
      "source": [
        "num = int(input(\"정수를 입력하시오\"))\n",
        "if (num % 2) != 0:\n",
        "  print(\"홀수입니다.\")\n",
        "else:\n",
        "  print(\"짝수입니다.\")\n",
        "\n"
      ],
      "metadata": {
        "colab": {
          "base_uri": "https://localhost:8080/"
        },
        "id": "w4ZqR3jh-uhU",
        "outputId": "4e5b2f6c-336d-4021-beed-9368b47ad8ba"
      },
      "execution_count": 10,
      "outputs": [
        {
          "output_type": "stream",
          "name": "stdout",
          "text": [
            "정수를 입력하시오4\n",
            "짝수입니다.\n"
          ]
        }
      ]
    },
    {
      "cell_type": "markdown",
      "source": [
        "from os import name\n",
        "5. 사용자의 이름과 나이를 입력받고, 답변하는 코드 작성\n",
        " - 입력 : 성명 - name\n",
        " - 입력 : 나이 - age\n",
        " - 수식 : if age <= 20:\n",
        "\n",
        " 최종 출력물\n",
        " - 이름을 입력하시오.: ***\n",
        " - 나이를 입력하시오.: **\n",
        " - (1) 프로그래밍을 배우는 최적의 나이입니다.\n",
        " - (2) 아직도 늦지 않았습니다. 도전정신"
      ],
      "metadata": {
        "id": "kCSimzrpAqh1"
      }
    },
    {
      "cell_type": "code",
      "source": [
        "name = input(\"이름을 입력하시오.:\")\n",
        "age = int(input(\"나이를 입력하시오.:\"))\n",
        "if age <= 20:\n",
        "  print(\"프로그래밍을 배우는 최적의 나이입니다.\")\n",
        "else:\n",
        "  print(\"아직도 늦지 않았습니다. 도전정신\")"
      ],
      "metadata": {
        "colab": {
          "base_uri": "https://localhost:8080/"
        },
        "id": "0MDXcYn_BZdm",
        "outputId": "61c2a963-d2af-441c-cdf0-ab0648fd4342"
      },
      "execution_count": 11,
      "outputs": [
        {
          "output_type": "stream",
          "name": "stdout",
          "text": [
            "이름을 입력하시오.:최수안\n",
            "나이를 입력하시오.:20\n",
            "프로그래밍을 배우는 최적의 나이입니다.\n"
          ]
        }
      ]
    },
    {
      "cell_type": "code",
      "source": [
        "import random # 랜덤 함수를 사용하기 위한 모듈을 불러옵니다.\n",
        "\n",
        "def generate_lotto():\n",
        "    lotto_numbers = [] # 로또 번호를 저장할 리스트를 생성합니다.\n",
        "\n",
        "    while len(lotto_numbers) < 6: # 로또 번호 6개를 생성하기 위해 반복문을 사용합니다.\n",
        "        number = random.randint(1, 45) # 1부터 45까지의 랜덤한 숫자를 생성합니다.\n",
        "        if number not in lotto_numbers: # 만약 생성된 숫자가 이미 리스트에 있다면, 다시 랜덤한 숫자를 생성합니다.\n",
        "            lotto_numbers.append(number) # 생성된 숫자가 리스트에 없다면, 리스트에 추가합니다.\n",
        "\n",
        "    return sorted(lotto_numbers) # 생성된 로또 번호 리스트를 정렬하여 반환합니다.\n",
        "\n",
        "print(generate_lotto()) # 로또 번호를 생성하고 출력합니다."
      ],
      "metadata": {
        "colab": {
          "base_uri": "https://localhost:8080/"
        },
        "id": "iYipk5nfFEiG",
        "outputId": "07c238f3-6f01-4375-cb7a-eb741fbf11c6"
      },
      "execution_count": 12,
      "outputs": [
        {
          "output_type": "stream",
          "name": "stdout",
          "text": [
            "[1, 3, 7, 19, 20, 42]\n"
          ]
        }
      ]
    },
    {
      "cell_type": "code",
      "source": [
        "# 사용자의 이름을 입력 받습니다.\n",
        "name = input(\"이름을 입력해주세요: \")\n",
        "\n",
        "# 사용자의 나이를 입력 받습니다.\n",
        "age = int(input(\"나이를 입력해주세요: \"))\n",
        "\n",
        "# 입력 받은 이름과 나이를 출력합니다.\n",
        "print(\"안녕하세요, {}님. 당신의 나이는 {}세입니다.\".format(name, age))"
      ],
      "metadata": {
        "colab": {
          "base_uri": "https://localhost:8080/"
        },
        "id": "KWFutcXjGsl1",
        "outputId": "e669ffb0-f28b-41f5-ad3d-88be6378f456"
      },
      "execution_count": 13,
      "outputs": [
        {
          "output_type": "stream",
          "name": "stdout",
          "text": [
            "이름을 입력해주세요: 최수안\n",
            "나이를 입력해주세요: 20\n",
            "안녕하세요, 최수안님. 당신의 나이는 20세입니다.\n"
          ]
        }
      ]
    }
  ]
}